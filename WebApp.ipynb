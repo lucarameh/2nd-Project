{
 "cells": [
  {
   "cell_type": "code",
   "execution_count": 1,
   "id": "c20d0fd7",
   "metadata": {},
   "outputs": [],
   "source": [
    "from fastai.vision.all import *\n",
    "from fastai.vision.widgets import *"
   ]
  },
  {
   "cell_type": "code",
   "execution_count": 2,
   "id": "7cdbf491",
   "metadata": {},
   "outputs": [],
   "source": [
    "path = Path()\n",
    "learn_inf = load_learner(path/'export.pkl')"
   ]
  },
  {
   "cell_type": "code",
   "execution_count": 3,
   "id": "57d7209e",
   "metadata": {},
   "outputs": [],
   "source": [
    "upload = widgets.FileUpload()\n",
    "output = widgets.Output()\n",
    "label = widgets.Label()"
   ]
  },
  {
   "cell_type": "code",
   "execution_count": 4,
   "id": "d6315940",
   "metadata": {},
   "outputs": [],
   "source": [
    "def data_change(img_input):\n",
    "    image = PILImage.create(upload.data[-1])\n",
    "    output.clear_output()\n",
    "    with output:\n",
    "        display(image.to_thumb(256, 256))\n",
    "    label_pred, index_pred, prob = learn_inf.predict(image)\n",
    "    label.value = f\"The model's guess with  {prob[index_pred]:.02f} of confidence is: {label_pred}\"    \n",
    "\n"
   ]
  },
  {
   "cell_type": "code",
   "execution_count": 5,
   "id": "1d0b48d3",
   "metadata": {},
   "outputs": [
    {
     "data": {
      "application/vnd.jupyter.widget-view+json": {
       "model_id": "1ec3fcfe352f41389a87a6b6d16af5c7",
       "version_major": 2,
       "version_minor": 0
      },
      "text/plain": [
       "VBox(children=(Label(value='Select your feline!'), FileUpload(value=(), description='Upload'), Output(), Label…"
      ]
     },
     "metadata": {},
     "output_type": "display_data"
    }
   ],
   "source": [
    "upload.observe(data_change, names=['data'])\n",
    "box = widgets.VBox([widgets.Label('Select your feline!'), upload, output, label])\n",
    "display(box)"
   ]
  }
 ],
 "metadata": {
  "kernelspec": {
   "display_name": "Python 3 (ipykernel)",
   "language": "python",
   "name": "python3"
  },
  "language_info": {
   "codemirror_mode": {
    "name": "ipython",
    "version": 3
   },
   "file_extension": ".py",
   "mimetype": "text/x-python",
   "name": "python",
   "nbconvert_exporter": "python",
   "pygments_lexer": "ipython3",
   "version": "3.10.6"
  },
  "vscode": {
   "interpreter": {
    "hash": "916dbcbb3f70747c44a77c7bcd40155683ae19c65e1c03b4aa3499c5328201f1"
   }
  }
 },
 "nbformat": 4,
 "nbformat_minor": 5
}
