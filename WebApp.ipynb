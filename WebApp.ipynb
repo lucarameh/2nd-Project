{
 "cells": [
  {
   "cell_type": "code",
   "execution_count": 1,
   "id": "c20d0fd7",
   "metadata": {},
   "outputs": [],
   "source": [
    "from fastai.vision.all import *\n",
    "from fastai.vision.widgets import *"
   ]
  },
  {
   "cell_type": "code",
   "execution_count": 2,
   "id": "7cdbf491",
   "metadata": {},
   "outputs": [],
   "source": [
    "path = Path()\n",
    "learn_inf = load_learner(path/'export.pkl')"
   ]
  },
  {
   "cell_type": "code",
   "execution_count": 3,
   "id": "57d7209e",
   "metadata": {},
   "outputs": [],
   "source": [
    "upload = widgets.FileUpload()\n",
    "output = widgets.Output()\n",
    "label = widgets.Label()\n",
    "run = widgets.Button(description='Classify')"
   ]
  },
  {
   "cell_type": "code",
   "execution_count": 4,
   "id": "d6315940",
   "metadata": {},
   "outputs": [],
   "source": [
    "def on_click_classify(change):\n",
    "    img = PILImage.create(upload.value[-1].content.tobytes())\n",
    "    output.clear_output()\n",
    "    with output: display(img.to_thumb(256,256))\n",
    "    pred,pred_idx,probs = learn_inf.predict(img)\n",
    "    label.value = f'Prediction: {pred}; Probability: {probs[pred_idx]*100:.02f}%'"
   ]
  },
  {
   "cell_type": "code",
   "execution_count": 5,
   "id": "1d0b48d3",
   "metadata": {},
   "outputs": [],
   "source": [
    "run.on_click(on_click_classify)\n",
    "box = widgets.VBox([widgets.Label('Select your feline!'), upload, run, output, label])"
   ]
  },
  {
   "cell_type": "markdown",
   "id": "5dd45382",
   "metadata": {},
   "source": [
    "Upload Your feline!!"
   ]
  },
  {
   "cell_type": "code",
   "execution_count": 6,
   "id": "15429e2d",
   "metadata": {},
   "outputs": [
    {
     "data": {
      "application/vnd.jupyter.widget-view+json": {
       "model_id": "b4043160fbfe4ef08447ae692af83258",
       "version_major": 2,
       "version_minor": 0
      },
      "text/plain": [
       "VBox(children=(Label(value='Select your feline!'), FileUpload(value=(), description='Upload'), Button(descript…"
      ]
     },
     "metadata": {},
     "output_type": "display_data"
    }
   ],
   "source": [
    "display(box)"
   ]
  },
  {
   "cell_type": "markdown",
   "id": "df2c9211",
   "metadata": {},
   "source": [
    "Printar numeros:"
   ]
  },
  {
   "cell_type": "code",
   "execution_count": 7,
   "id": "a56434fa",
   "metadata": {},
   "outputs": [
    {
     "name": "stdout",
     "output_type": "stream",
     "text": [
      "1\n",
      "2\n",
      "3\n",
      "4\n",
      "5\n",
      "6\n",
      "7\n",
      "8\n",
      "9\n",
      "10\n"
     ]
    }
   ],
   "source": [
    "for i in range(10):\n",
    "    print(i+1)"
   ]
  }
 ],
 "metadata": {
  "kernelspec": {
   "display_name": "Python 3 (ipykernel)",
   "language": "python",
   "name": "python3"
  },
  "language_info": {
   "codemirror_mode": {
    "name": "ipython",
    "version": 3
   },
   "file_extension": ".py",
   "mimetype": "text/x-python",
   "name": "python",
   "nbconvert_exporter": "python",
   "pygments_lexer": "ipython3",
   "version": "3.10.6"
  },
  "vscode": {
   "interpreter": {
    "hash": "916dbcbb3f70747c44a77c7bcd40155683ae19c65e1c03b4aa3499c5328201f1"
   }
  }
 },
 "nbformat": 4,
 "nbformat_minor": 5
}
