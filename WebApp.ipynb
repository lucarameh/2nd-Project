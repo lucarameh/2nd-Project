{
  "cells": [
    {
      "cell_type": "markdown",
      "metadata": {
        "id": "view-in-github",
        "colab_type": "text"
      },
      "source": [
        "<a href=\"https://colab.research.google.com/github/lucarameh/2nd-Project/blob/main/WebApp.ipynb\" target=\"_parent\"><img src=\"https://colab.research.google.com/assets/colab-badge.svg\" alt=\"Open In Colab\"/></a>"
      ]
    },
    {
      "cell_type": "markdown",
      "source": [
        "# **Second project: something you come up with**"
      ],
      "metadata": {
        "id": "C0ogVH6RXL9Y"
      },
      "id": "C0ogVH6RXL9Y"
    },
    {
      "cell_type": "code",
      "source": [
        "#hide\n",
        "! [ -e /content ] & pip install -Uqq fastbook"
      ],
      "metadata": {
        "id": "vqxjvDoKguhw"
      },
      "id": "vqxjvDoKguhw",
      "execution_count": null,
      "outputs": []
    },
    {
      "cell_type": "code",
      "execution_count": null,
      "id": "c20d0fd7",
      "metadata": {
        "id": "c20d0fd7"
      },
      "outputs": [],
      "source": [
        "#hide\n",
        "from fastbook import *\n",
        "from fastai.vision.widgets import *"
      ]
    },
    {
      "cell_type": "markdown",
      "source": [
        "### Importing .pkl file"
      ],
      "metadata": {
        "id": "57Fy_HyXX-s2"
      },
      "id": "57Fy_HyXX-s2"
    },
    {
      "cell_type": "markdown",
      "source": [
        "Importing the .pkl file that was acquired by [Image Classifier](https://colab.research.google.com/drive/1DkGGDDmbaG44DXlLHKzdqhNr7p093fpg#scrollTo=pc3QHpuNxIDt)"
      ],
      "metadata": {
        "id": "A7yLg8yiZ4qI"
      },
      "id": "A7yLg8yiZ4qI"
    },
    {
      "cell_type": "code",
      "execution_count": null,
      "id": "7cdbf491",
      "metadata": {
        "id": "7cdbf491"
      },
      "outputs": [],
      "source": [
        "path = Path()\n",
        "learn_inf = load_learner(path/'export.pkl')"
      ]
    },
    {
      "cell_type": "markdown",
      "source": [
        "### Creating the GUI with ipywidgets"
      ],
      "metadata": {
        "id": "zQ7J5rH1ZpYq"
      },
      "id": "zQ7J5rH1ZpYq"
    },
    {
      "cell_type": "markdown",
      "source": [
        "Initializing widgets:\n",
        "```\n",
        "  upload = widgets.FileUpload()\n",
        "  output = widgets.Output()\n",
        "  label = widgets.Label() \n",
        "```"
      ],
      "metadata": {
        "id": "k4fAi0jwk1gC"
      },
      "id": "k4fAi0jwk1gC"
    },
    {
      "cell_type": "code",
      "execution_count": null,
      "id": "57d7209e",
      "metadata": {
        "id": "57d7209e"
      },
      "outputs": [],
      "source": [
        "upload = widgets.FileUpload()\n",
        "output = widgets.Output()\n",
        "label = widgets.Label()"
      ]
    },
    {
      "cell_type": "markdown",
      "source": [
        "Create an observer that verify the last element of ```upload.data``` and change the output for every new element uploaded.\n",
        "```\n",
        "  def data_change(img_input):\n",
        "      img = PILImage.create(upload.data[-1])\n",
        "      output.clear_output()\n",
        "      with output:\n",
        "          display(img.to_thumb(256, 256))\n",
        "      label_pred, index_pred, prob = learn_inf.predict(img)\n",
        "      label.value = f\"The model's guess with {prob[index_pred]*100:.02f}% of confidence is: {label_pred}\"    \n",
        "  upload.observe(data_change, names=['data'])\n",
        "```"
      ],
      "metadata": {
        "id": "gpPlZrENll9_"
      },
      "id": "gpPlZrENll9_"
    },
    {
      "cell_type": "code",
      "execution_count": null,
      "id": "d6315940",
      "metadata": {
        "id": "d6315940"
      },
      "outputs": [],
      "source": [
        "def data_change(img_input):\n",
        "    img = PILImage.create(upload.data[-1])\n",
        "    output.clear_output()\n",
        "    with output:\n",
        "        display(img.to_thumb(256, 256))\n",
        "    label_pred, index_pred, prob = learn_inf.predict(img)\n",
        "    label.value = f\"The model's guess with {prob[index_pred]*100:.02f}% of confidence is: {label_pred}\"    \n",
        "upload.observe(data_change, names=['data'])\n"
      ]
    },
    {
      "cell_type": "markdown",
      "id": "40ffd389",
      "metadata": {
        "id": "40ffd389"
      },
      "source": [
        "### LION, TIGER OR LEOPARD"
      ]
    },
    {
      "cell_type": "code",
      "execution_count": null,
      "id": "1d0b48d3",
      "metadata": {
        "colab": {
          "referenced_widgets": [
            "c244f2d99f574595becf0751b233ddfa"
          ]
        },
        "id": "1d0b48d3",
        "outputId": "b1bf73f2-7846-4525-930f-907e4601a871"
      },
      "outputs": [
        {
          "data": {
            "application/vnd.jupyter.widget-view+json": {
              "model_id": "c244f2d99f574595becf0751b233ddfa",
              "version_major": 2,
              "version_minor": 0
            },
            "text/plain": [
              "VBox(children=(Label(value='Select your feline!'), FileUpload(value={}, description='Upload'), Output(), Label…"
            ]
          },
          "metadata": {},
          "output_type": "display_data"
        },
        {
          "data": {
            "text/html": [
              "\n",
              "<style>\n",
              "    /* Turns off some styling */\n",
              "    progress {\n",
              "        /* gets rid of default border in Firefox and Opera. */\n",
              "        border: none;\n",
              "        /* Needs to be in here for Safari polyfill so background images work as expected. */\n",
              "        background-size: auto;\n",
              "    }\n",
              "    progress:not([value]), progress:not([value])::-webkit-progress-bar {\n",
              "        background: repeating-linear-gradient(45deg, #7e7e7e, #7e7e7e 10px, #5c5c5c 10px, #5c5c5c 20px);\n",
              "    }\n",
              "    .progress-bar-interrupted, .progress-bar-interrupted::-webkit-progress-bar {\n",
              "        background: #F44336;\n",
              "    }\n",
              "</style>\n"
            ],
            "text/plain": [
              "<IPython.core.display.HTML object>"
            ]
          },
          "metadata": {},
          "output_type": "display_data"
        },
        {
          "data": {
            "text/html": [],
            "text/plain": [
              "<IPython.core.display.HTML object>"
            ]
          },
          "metadata": {},
          "output_type": "display_data"
        }
      ],
      "source": [
        "box = widgets.VBox([widgets.Label('Select your feline!'), upload, output, label])\n",
        "display(box)"
      ]
    }
  ],
  "metadata": {
    "kernelspec": {
      "display_name": "Python 3 (ipykernel)",
      "language": "python",
      "name": "python3"
    },
    "language_info": {
      "codemirror_mode": {
        "name": "ipython",
        "version": 3
      },
      "file_extension": ".py",
      "mimetype": "text/x-python",
      "name": "python",
      "nbconvert_exporter": "python",
      "pygments_lexer": "ipython3",
      "version": "3.10.6"
    },
    "vscode": {
      "interpreter": {
        "hash": "916dbcbb3f70747c44a77c7bcd40155683ae19c65e1c03b4aa3499c5328201f1"
      }
    },
    "colab": {
      "provenance": [],
      "collapsed_sections": [],
      "include_colab_link": true
    }
  },
  "nbformat": 4,
  "nbformat_minor": 5
}